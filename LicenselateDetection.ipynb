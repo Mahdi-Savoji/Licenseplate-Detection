{
  "cells": [
    {
      "cell_type": "markdown",
      "metadata": {
        "id": "uAbMMkDMD8St"
      },
      "source": [
        "**Clone YoloV5 and Install Requirments**"
      ]
    },
    {
      "cell_type": "code",
      "execution_count": null,
      "metadata": {
        "id": "U4QR_orws2BT"
      },
      "outputs": [],
      "source": [
        "!git clone https://github.com/ultralytics/yolov5 \n",
        "!pip install -r yolov5/requirements.txt "
      ]
    },
    {
      "cell_type": "markdown",
      "metadata": {
        "id": "t7CGJnpTEHuH"
      },
      "source": [
        "**Install wandb Library and Login**"
      ]
    },
    {
      "cell_type": "code",
      "execution_count": null,
      "metadata": {
        "id": "Wui2UTv-DjUY"
      },
      "outputs": [],
      "source": [
        "!pip install wandb\n",
        "import wandb\n",
        "!wandb login"
      ]
    },
    {
      "cell_type": "markdown",
      "metadata": {
        "id": "I3X2MjsXByBu"
      },
      "source": [
        "**Yolo Version 5 Smal:**"
      ]
    },
    {
      "cell_type": "code",
      "execution_count": null,
      "metadata": {
        "id": "JTBvJY7jtzyU"
      },
      "outputs": [],
      "source": [
        "!python yolov5/train.py --img 640 --batch 8 --epochs 58 --data yolov5/dataset.yaml --weights /content/drive/MyDrive/Yolo_Models/yolov5s.pt"
      ]
    },
    {
      "cell_type": "code",
      "execution_count": null,
      "metadata": {
        "id": "M_aM1e0t4sDM"
      },
      "outputs": [],
      "source": [
        "!python yolov5/train.py --img 640 --batch 16 --epochs 65 --data yolov5/dataset.yaml --weights /content/drive/MyDrive/Yolo_Models/yolov5s.pt"
      ]
    },
    {
      "cell_type": "code",
      "execution_count": null,
      "metadata": {
        "id": "Y4y_9CovychJ"
      },
      "outputs": [],
      "source": [
        "!python yolov5/train.py --img 640 --batch 16 --epochs 40 --data yolov5/dataset.yaml --weights /content/drive/MyDrive/Yolo_Models/yolov5s.pt"
      ]
    },
    {
      "cell_type": "markdown",
      "metadata": {
        "id": "jd774RfSDk6I"
      },
      "source": [
        "**Test Best Weight:**"
      ]
    },
    {
      "cell_type": "code",
      "execution_count": null,
      "metadata": {
        "id": "OloKFp__E1Hh"
      },
      "outputs": [],
      "source": [
        "!python yolov5/val.py --img 640 --data yolov5/dataset.yaml --weights /content/yolov5/runs/train/exp/weights/best.pt\n"
      ]
    },
    {
      "cell_type": "markdown",
      "metadata": {
        "id": "IM0JGwO1B7FN"
      },
      "source": [
        "**Yolo Version 5 Medium:**"
      ]
    },
    {
      "cell_type": "code",
      "execution_count": null,
      "metadata": {
        "id": "32AWeoNE00zW"
      },
      "outputs": [],
      "source": [
        "!python yolov5/train.py --img 640 --batch 16 --epochs 37 --data yolov5/dataset.yaml --weights /content/drive/MyDrive/Yolo_Models/yolov5m.pt"
      ]
    },
    {
      "cell_type": "code",
      "execution_count": null,
      "metadata": {
        "id": "s3L0mvSpCnF0"
      },
      "outputs": [],
      "source": [
        "!python yolov5/train.py --img 640 --batch 16 --epochs 50 --data yolov5/dataset.yaml --weights /content/drive/MyDrive/Yolo_Models/yolov5m.pt"
      ]
    },
    {
      "cell_type": "code",
      "execution_count": null,
      "metadata": {
        "id": "OqfBKjgFC-UF"
      },
      "outputs": [],
      "source": [
        "!python yolov5/train.py --img 640 --batch 16 --epochs 60 --data yolov5/dataset.yaml --weights /content/drive/MyDrive/Yolo_Models/yolov5m.pt"
      ]
    },
    {
      "cell_type": "code",
      "execution_count": null,
      "metadata": {
        "id": "nZiGSrUyC-mr"
      },
      "outputs": [],
      "source": [
        "!python yolov5/train.py --img 640 --batch 16 --epochs 70 --data yolov5/dataset.yaml --weights /content/drive/MyDrive/Yolo_Models/yolov5m.pt"
      ]
    },
    {
      "cell_type": "code",
      "execution_count": null,
      "metadata": {
        "id": "jDx2ALRpC-6V"
      },
      "outputs": [],
      "source": [
        "!python yolov5/train.py --img 640 --batch 8 --epochs 75 --data yolov5/dataset.yaml --weights /content/drive/MyDrive/Yolo_Models/yolov5m.pt"
      ]
    },
    {
      "cell_type": "code",
      "execution_count": null,
      "metadata": {
        "id": "dwuslKURC_0k"
      },
      "outputs": [],
      "source": [
        "!python yolov5/train.py --img 640 --batch 16 --epochs 80 --data yolov5/dataset.yaml --weights /content/drive/MyDrive/Yolo_Models/yolov5m.pt"
      ]
    },
    {
      "cell_type": "markdown",
      "metadata": {
        "id": "R0x1HOtcDjBZ"
      },
      "source": [
        "**Test Best Weight:**"
      ]
    },
    {
      "cell_type": "code",
      "execution_count": null,
      "metadata": {
        "id": "xVI7VD20I7qd"
      },
      "outputs": [],
      "source": [
        "!python yolov5/val.py --img 640 --data yolov5/dataset.yaml --weights /content/yolov5/runs/train/exp2/weights/best.pt\n"
      ]
    },
    {
      "cell_type": "markdown",
      "metadata": {
        "id": "MsC_E5h5CBiN"
      },
      "source": [
        "**Yolo Version 5 Large:**"
      ]
    },
    {
      "cell_type": "code",
      "execution_count": null,
      "metadata": {
        "id": "uvglNeK1NTT4"
      },
      "outputs": [],
      "source": [
        "!python yolov5/train.py --img 640 --batch 16 --epochs 100 --data yolov5/dataset.yaml --weights /content/drive/MyDrive/Yolo_Models/yolov5l.pt"
      ]
    },
    {
      "cell_type": "code",
      "execution_count": null,
      "metadata": {
        "id": "6QWvYto2Z4eN"
      },
      "outputs": [],
      "source": [
        "!python yolov5/train.py --img 640 --batch 16 --epochs 90 --data yolov5/dataset.yaml --weights /content/drive/MyDrive/Yolo_Models/yolov5l.pt"
      ]
    },
    {
      "cell_type": "code",
      "execution_count": null,
      "metadata": {
        "id": "o5uon7d6jpmm"
      },
      "outputs": [],
      "source": [
        "!python yolov5/train.py --img 640 --batch 8 --epochs 100 --data yolov5/dataset.yaml --weights /content/drive/MyDrive/Yolo_Models/yolov5l.pt"
      ]
    },
    {
      "cell_type": "markdown",
      "metadata": {
        "id": "wrRlUacvDZ29"
      },
      "source": [
        "**Test Best Weight:**"
      ]
    },
    {
      "cell_type": "code",
      "execution_count": null,
      "metadata": {
        "id": "miQn8YWjwfrF"
      },
      "outputs": [],
      "source": [
        "!python yolov5/val.py --img 640 --data yolov5/dataset.yaml --weights /content/yolov5/runs/train/exp3/weights/best.pt\n"
      ]
    }
  ],
  "metadata": {
    "accelerator": "GPU",
    "colab": {
      "collapsed_sections": [],
      "provenance": []
    },
    "gpuClass": "standard",
    "kernelspec": {
      "display_name": "Python 3",
      "name": "python3"
    },
    "language_info": {
      "name": "python"
    }
  },
  "nbformat": 4,
  "nbformat_minor": 0
}
